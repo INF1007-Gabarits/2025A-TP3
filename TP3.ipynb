{
 "cells": [
  {
   "cell_type": "markdown",
   "metadata": {},
   "source": [
    "<div> \n",
    "    \n",
    "<h1 align=\"center\"> INF1007 - Automne 2025 </h1>\n",
    "<h2 align=\"center\"> TP3 - Analyse de données sur les AVC avec des librairies scientifiques</h2>\n",
    "<br>\n",
    "    \n",
    "</div> "
   ]
  },
  {
   "cell_type": "markdown",
   "metadata": {},
   "source": [
    "<b>\n",
    "Travail réalisé par : <br>\n",
    "<br></b>\n",
    "Remplacer par votre nom <br>\n",
    "Remplacer par votre nom <br>\n",
    "<br>\n",
    "<b>\n",
    "Numéro de groupe de laboratoire :\n",
    "<br><br>\n",
    "</b>\n",
    "Remplacer par votre numéro de groupe (LXX-XX)\n",
    "<br>\n"
   ]
  },
  {
   "cell_type": "markdown",
   "metadata": {},
   "source": [
    "<div class=\"alert alert-danger\" style=\"font-size:16px;\">\n",
    "<b>Avant de commencer le TP, assurez-vous d'avoir installé les librairies suivantes :</b>\n",
    "<br>\n",
    "\n",
    "- <a href=\"https://pandas.pydata.org/docs/getting_started/index.html\" target=\"_blank\">Pandas</a><br>\n",
    "- <a href=\"https://matplotlib.org/stable/\" target=\"_blank\">Matplotlib</a><br>\n",
    "- <a href=\"https://seaborn.pydata.org/index.html\" target=\"_blank\">Seaborn</a><br>\n",
    "- <a href=\"https://plotly.com/python/\" target=\"_blank\">Plotly</a>\n",
    "<br></b>\n",
    "\n",
    "Vous pouvez les installer en exécutant la cellules suivante. \n",
    "</div>\n"
   ]
  },
  {
   "cell_type": "code",
   "execution_count": null,
   "metadata": {},
   "outputs": [],
   "source": [
    "# Installations des librairies nécessaires pour le TP. \n",
    "# Vous avez seulement besoin d'exécuter cette cellule une seule fois, lors de la première utilisation du Jupyter Notebook.\n",
    "# Vous pouvez ensuite mettre les installations en commentaire pour éviter de les réexécuter à chaque fois que vous exécutez le Notebook au complet (avec \"Run All\").\n",
    "\n",
    "%pip install pandas\n",
    "%pip install matplotlib\n",
    "%pip install seaborn\n",
    "%pip install plotly\n",
    "%pip install numpy"
   ]
  },
  {
   "cell_type": "markdown",
   "metadata": {},
   "source": [
    "<h1><font color='lightblue'> Partie 1 - Chargement d'une base de données avec Pandas </font></h1>\n"
   ]
  },
  {
   "cell_type": "markdown",
   "metadata": {},
   "source": [
    "<div class=\"alert alert-block alert-info\" style=\"font-size:16px;\">\n",
    "\n",
    "Pour cette première partie du TP, nous utiliserons la librairie Pandas. Pour importer la librairie dans le Jupyter Notebook, vous pouvez exécuter la cellule suivante. \n"
   ]
  },
  {
   "cell_type": "code",
   "execution_count": null,
   "metadata": {},
   "outputs": [],
   "source": [
    "import pandas as pd\n",
    "import numpy as np"
   ]
  },
  {
   "cell_type": "markdown",
   "metadata": {},
   "source": [
    "<div class=\"alert alert-block alert-info\" style=\"font-size:16px;\">\n",
    "<b>\n",
    "1.1 Dans ce premier exercice, vous devez d'abord compléter la fonction \"charger_donnees\", qui permet de charger le contenu d'un fichier .csv en un DataFrame Pandas. \n",
    "</b>\n",
    "<br><br> \n",
    "Un DataFrame Pandas est une structure de données tabulaire à deux dimensions, similaire à une feuille de calcul Excel. Il est composé de lignes et de colonnes, où :\n",
    "<br><br> \n",
    "\n",
    "- Chaque colonne représente une variable (ou un attribut) et a un nom.\n",
    "<br>\n",
    "\n",
    "- Chaque ligne représente une entrée (ou un enregistrement).\n",
    "<br>\n",
    "\n",
    "- Les indices (index) permettent d’identifier les lignes.\n",
    "<br>\n",
    "<br>\n",
    "*Pour compléter la fonction, vous devez utiliser la fonction \"read_csv\" de la librairie pandas. \n",
    "</div>"
   ]
  },
  {
   "cell_type": "code",
   "execution_count": null,
   "metadata": {},
   "outputs": [],
   "source": [
    "# TODO Compléter la fonction charger_donnees\n",
    "def charger_donnees(file_path):\n",
    "    \"\"\"\n",
    "    Lire le fichier csv passé en parametre et retourner un DataFrame contenant les données du fichier csv.\n",
    "    @param file_path: le chemin vers le fichier csv (str)\n",
    "    @return: DataFrame contenant les données du fichier csv. (pandas dataframe)\n",
    "    \"\"\"\n",
    "    # TODO Écrire votre code ici --> remplacer None\n",
    "    \n",
    "    df = None\n",
    "\n",
    "    # Fin du code\n",
    "    return df"
   ]
  },
  {
   "cell_type": "markdown",
   "metadata": {},
   "source": [
    "<div class=\"alert alert-block alert-info\" style=\"font-size:16px;\">\n",
    "<b>\n",
    "1.2 Ensuite, en utilisant la fonction charger_donnees que vous venez de compléter, vous devez maintenant charger le contenu du fichier AVC.csv dans un DataFrame pandas </b> \n"
   ]
  },
  {
   "cell_type": "code",
   "execution_count": null,
   "metadata": {},
   "outputs": [],
   "source": [
    "# TODO Charger le fichier csv de données en un DataFrame avec la librairie pandas (en utilisant la fonction \"charger_donnees\") --> remplacer None\n",
    "df = None"
   ]
  },
  {
   "cell_type": "markdown",
   "metadata": {},
   "source": [
    "<div class=\"alert alert-block alert-info\" style=\"font-size:16px;\">\n",
    "<b>\n",
    "1.3 Ensuite, en utilisant la fonction head() de Pandas, affichez les 5 premières lignes du DataFrame que vous venez de créer dans la cellule précédente </b> \n",
    "<br>"
   ]
  },
  {
   "cell_type": "code",
   "execution_count": null,
   "metadata": {},
   "outputs": [],
   "source": [
    "# TODO Afficher les 5 premières lignes du DataFrame"
   ]
  },
  {
   "cell_type": "markdown",
   "metadata": {},
   "source": [
    "<div class=\"alert alert-block alert-info\" style=\"font-size:16px;\">\n",
    "<b>\n",
    "1.4. Maintenant, vous devez compléter la fonction supprimer_colonnes, qui permettra de supprimer la ou les colonnes d'un DataFrame qui contiennent des informations non pertinentes pour la suite. Dans le cadre de votre recherche, vous vous rendez compte que vous ne séparez pas les sujets selon qu'il aient un diabète ou non, donc cette colonne ne vous ait d'aucune utilié. De plus, la date de survenue a peu d'importance dans vos analyses actuelles.   </b> \n",
    "<br>"
   ]
  },
  {
   "cell_type": "code",
   "execution_count": null,
   "metadata": {},
   "outputs": [],
   "source": [
    "# TODO Créer une fonction pour supprimer les colonnes \"Diabète\" et \"Date_survenue\"\n",
    "def supprimer_colonnes(dataframe):\n",
    "    \"\"\"\n",
    "    Supprime les colonnes non pertinentes.\n",
    "\n",
    "    @param dataframe : Le DataFrame à nettoyer.\n",
    "    @return :  Le DataFrame avec les colonnes \"Diabète\" et \"Date_survenue\" supprimées\n",
    "    \"\"\"\n",
    "    # TODO Écrire votre code ici\n",
    "\n",
    "    return dataframe"
   ]
  },
  {
   "cell_type": "markdown",
   "metadata": {},
   "source": [
    "<div class=\"alert alert-block alert-info\" style=\"font-size:16px;\">\n",
    "<b>\n",
    "1.5 Utilisez la fonction supprimer_colonnes que vous avez complété pour supprimer les colonnes \"Diabète\" et \"Date_survenue\" dans votre DataFrame  </b> \n",
    "<br>"
   ]
  },
  {
   "cell_type": "code",
   "execution_count": null,
   "metadata": {},
   "outputs": [],
   "source": [
    "# TODO Afficher les 5 premières lignes pour vérifier le chargement"
   ]
  },
  {
   "cell_type": "markdown",
   "metadata": {},
   "source": [
    "<div class=\"alert alert-block alert-info\" style=\"font-size:16px;\">\n",
    "<b>\n",
    "1.6 Vérifiez que vos données sont uniformes en affichant à nouveau les 15 premières lignes du DataFrame. \n",
    "<br>"
   ]
  },
  {
   "cell_type": "code",
   "execution_count": null,
   "metadata": {},
   "outputs": [],
   "source": [
    "# TODO Afficher les 15 premières lignes du DataFrame"
   ]
  },
  {
   "cell_type": "markdown",
   "metadata": {},
   "source": [
    "<div class=\"alert alert-block alert-info\" style=\"font-size:16px;\">\n",
    "<b>\n",
    "1.7 Vous vous rendez compte que votre data frame manque de données primordial. Vous devez donc y ajouter une colonne à partir du csv : ``. \n",
    "<br>"
   ]
  },
  {
   "cell_type": "code",
   "execution_count": null,
   "metadata": {},
   "outputs": [],
   "source": [
    "#TODO ......."
   ]
  },
  {
   "cell_type": "markdown",
   "metadata": {},
   "source": [
    "<div class=\"alert alert-block alert-info\" style=\"font-size:16px;\">\n",
    "<b>\n",
    "1.7 Après vérification, vous vous rendez compte que certaines valeurs de la colonne \"Sexe\" sont en majuscules et d'autres en minuscules. Cela pourrait causer des problèmes lors de la sélection des groupes pour la visualisation des données.\n",
    "\n",
    "Pour éviter toute erreur, complétez une fonction utilisant .str.upper() afin de mettre toutes les valeurs de la colonne \"Sexe\" en majuscule.\n",
    "<br>\n"
   ]
  },
  {
   "cell_type": "code",
   "execution_count": null,
   "metadata": {},
   "outputs": [],
   "source": [
    "# TODO Créer une fonction pour convertir la colonne 'Sexe' en masjucule\n",
    "def majuscule_sexe(dataframe):\n",
    "    \"\"\"\n",
    "    Met toutes les valeurs de la colonne 'Sexe' en majuscules.\n",
    "\n",
    "    @param dataframe : Le DataFrame à corriger.\n",
    "    @return : Le DataFrame avec la colonne 'Sexe' en majuscules.\n",
    "    \"\"\"\n",
    "    \n",
    "    return dataframe"
   ]
  },
  {
   "cell_type": "markdown",
   "metadata": {},
   "source": [
    "<div class=\"alert alert-block alert-info\" style=\"font-size:16px;\">\n",
    "<b>\n",
    "1.8 Pour vous assurer que votre fonction a fonctionné correctement, affichez à nouveau les 15 premières lignes du DataFrame. \n",
    "<br>\n",
    "<b>\n"
   ]
  },
  {
   "cell_type": "code",
   "execution_count": null,
   "metadata": {},
   "outputs": [],
   "source": [
    "# TODO Afficher les 15 premières lignes du DataFrame\n"
   ]
  },
  {
   "cell_type": "markdown",
   "metadata": {},
   "source": [
    "<div class=\"alert alert-block alert-info\" style=\"font-size:16px;\">\n",
    "<b>\n",
    "1.9  Affichez toutes les statistiques du DataFrame, avec deux décimales pour les chiffres. \n",
    "<br>"
   ]
  },
  {
   "cell_type": "code",
   "execution_count": null,
   "metadata": {},
   "outputs": [],
   "source": [
    "# TODO Afficher les statistiques du dataframe\n",
    "# Indice: il existe une commande pandas pour faire cette action."
   ]
  },
  {
   "cell_type": "markdown",
   "metadata": {},
   "source": [
    "<div class=\"alert alert-block alert-info\" style=\"font-size:16px;\">\n",
    "<b>\n",
    "1.10 Vous avez vu qu'avec cette fonction seules les données en chiffre s'affiche. Mais vous aimeriez aussi avoir le nombre de femmes et d'hommes ayant eu un AVC,  ainsi que le nombre d'AVC hémoragique versus ichémique par genre également. \n",
    "<br>"
   ]
  },
  {
   "cell_type": "code",
   "execution_count": null,
   "metadata": {},
   "outputs": [],
   "source": [
    "# TODO Afficher le nombre de femmes versus d'homme ayant eu un AVC, ainsi que le nombre d'AVC ischémique versus hémoragique par sexe.\n",
    "# Indice: il existe une commande faisant ces deux actions. "
   ]
  },
  {
   "cell_type": "markdown",
   "metadata": {},
   "source": [
    "<h1><font color='lightgreen'> Partie 2 - Calcul des statistiques </font></h1>"
   ]
  },
  {
   "cell_type": "markdown",
   "metadata": {},
   "source": [
    "<div class=\"alert alert-block alert-success\" style=\"font-size:16px;\"> <b> \n",
    "Dans cette deuxième partie du TP, nous allons manipuler les données du dataframe que vous avez nettoyé. </div>"
   ]
  },
  {
   "cell_type": "code",
   "execution_count": null,
   "metadata": {},
   "outputs": [],
   "source": [
    "import matplotlib.pyplot as plt \n",
    "import seaborn as sns"
   ]
  },
  {
   "cell_type": "markdown",
   "metadata": {},
   "source": [
    "<div class=\"alert alert-block alert-success\" style=\"font-size:16px;\"> <b> \n",
    "2.1 Maintenant que vous avez obtenu le dataframe souhaité, vous désirez comparer des groupes de patient en fonction du sexe, et/ou du type d'AVC. Pour cela, vous allez créer une fonction vous permettant de calculer plusieurs statistiques tels que la moyenne, l'écart-type, le minimum ou le maximum d'une variable. <b> "
   ]
  },
  {
   "cell_type": "code",
   "execution_count": null,
   "metadata": {},
   "outputs": [],
   "source": [
    "# TODO Créer une fonction pour calculer des statistiques par groupe\n",
    "#Indice : Pandas vous propose deux fonction pouvant être utiles : groupby() et agg()\n",
    "\n",
    "def stats_par_groupe(df, colonne_groupe, colonne_valeur, fonctions):\n",
    "    \"\"\"\n",
    "    Calcule des statistiques pour une colonne selon un groupe.\n",
    "\n",
    "    @param df : DataFrame\n",
    "    @param colonne_groupe : colonne pour le groupement (ex: 'Sexe')\n",
    "    @param colonne_valeur : colonne à analyser (ex: 'Âge')\n",
    "    @param fonctions : liste ou fonction à appliquer (ex: ['mean','std'])\n",
    "    @return : DataFrame des statistiques\n",
    "\n",
    "    \n",
    "    \"\"\"\n",
    "    df_stats = None  # TODO remplacer None par le calcul des statistiques\n",
    "\n",
    "    #Ne touchez pas le code ci-dessous, il conserve l'affichage. \n",
    "    df_stats_long = df_stats.stack().reset_index()\n",
    "    df_stats_long.columns = ['Type_AVC','Statistique','Valeur']\n",
    "    return df_stats_long"
   ]
  },
  {
   "cell_type": "markdown",
   "metadata": {},
   "source": [
    "<div class=\"alert alert-block alert-success\" style=\"font-size:16px;\"> <b> \n",
    "2.2 Âge par sexe. À partir de la fonction \"stats_par_groupe()\" vous devez afficher la moyenne et l’écart-type de l’âge des femmes et des hommes au moment de leur AVC. \n",
    "</b>\n"
   ]
  },
  {
   "cell_type": "code",
   "execution_count": null,
   "metadata": {},
   "outputs": [],
   "source": [
    "## TODO Afficher la moyenne et l'écart-type de l'âge par sexe\n"
   ]
  },
  {
   "cell_type": "markdown",
   "metadata": {},
   "source": [
    "<div class=\"alert alert-block alert-success\" style=\"font-size:16px;\"> <b> \n",
    "2.2 Âge par sexe. À partir de la fonction \"stats_par_groupe()\" vous devez afficher l’âge minimum et l'âge maximum, au moment de l'AVC, par sexe.<b> "
   ]
  },
  {
   "cell_type": "code",
   "execution_count": null,
   "metadata": {},
   "outputs": [],
   "source": [
    "## TODO Afficher le minimum et le maximum d'âge pour les femmes et les hommes"
   ]
  },
  {
   "cell_type": "markdown",
   "metadata": {},
   "source": [
    "<div class=\"alert alert-block alert-success\" style=\"font-size:16px;\"> <b> \n",
    "2.3 Durée d’hospitalisation par type d’AVC. À partir de la fonction \"stats_par_groupe()\" vous devez afficher la moyenne de la durée d’hospitalisation pour les patients avec AVC ischémique versus AVC hémorragique afin de voir lequel permet une récupération plus rapide.<b> "
   ]
  },
  {
   "cell_type": "code",
   "execution_count": null,
   "metadata": {},
   "outputs": [],
   "source": [
    "## TODO Afficher la moyenne de jours d'hospitalisation pour les AVC ischémique versus hémorragique. "
   ]
  },
  {
   "cell_type": "markdown",
   "metadata": {},
   "source": [
    "<div class=\"alert alert-block alert-success\" style=\"font-size:16px;\"> <b> \n",
    "2.4. Durée d’hospitalisation par sexe. De même, à partir de la fonction \"stats_par_groupe()\" vous devez afficher la durée moyenne d’hospitalisation des hommes et des femmes pour voir si il y a des différences.<b> "
   ]
  },
  {
   "cell_type": "code",
   "execution_count": null,
   "metadata": {},
   "outputs": [],
   "source": [
    "# TODO Afficher la moyenne de jours d'hospitalisation pour les femmes et les hommes"
   ]
  },
  {
   "cell_type": "markdown",
   "metadata": {},
   "source": [
    "<div class=\"alert alert-block alert-success\" style=\"font-size:16px;\"> <b> \n",
    "2.5. Hypertension selon le type d’AVC. Vous souhaitez voir l'influence de l'hypertension sur la prévalence des AVC, ainsi vous calculez la proportion de patients ayant de l’hypertension parmi ceux ayant un AVC ischémique et hémorragique. Les résultats en pourcentage doivent être arrondis à 2 décimales. <br>\n",
    "\n",
    "<b>"
   ]
  },
  {
   "cell_type": "code",
   "execution_count": null,
   "metadata": {},
   "outputs": [],
   "source": [
    "# TODO Calculer la proportion de patients ayant de l'hypertension par type d'AVC\n",
    "def proportion_hypertension_par_type_avc(dataframe):\n",
    "    \"\"\"\n",
    "    Calcule la proportion (en %) de patients avec hypertension pour chaque type d'AVC.\n",
    "\n",
    "    @param dataframe : Le DataFrame contenant les colonnes 'Hypertension' et 'Type_AVC'.\n",
    "    @return : Un DataFrame avec la proportion en pourcentage par type d'AVC, arrondie à 2 décimale.\n",
    "    \"\"\"\n",
    "    dataframe['Hypertension_bin'] = None #indice pensez à changer les oui et non en répartition binaire. \n",
    "\n",
    "    df_pourcentage=None #à modifier par le calcul des pourcentages\n",
    "\n",
    "    df_result = df_pourcentage.reset_index()\n",
    "    df_result.columns = ['Type_AVC', 'Hypertension']\n",
    "\n",
    "    return df_result"
   ]
  },
  {
   "cell_type": "markdown",
   "metadata": {},
   "source": [
    "<div class=\"alert alert-block alert-success\" style=\"font-size:16px;\"> <b> \n",
    "2.6. Affichez la proportion de patients ayant de l'hypertension par type d'AVC\n",
    "<b>"
   ]
  },
  {
   "cell_type": "code",
   "execution_count": null,
   "metadata": {},
   "outputs": [],
   "source": [
    "# TODO Afficher le dataframe des proportions de patients ayant de l'hypertension par type d'AVC"
   ]
  },
  {
   "cell_type": "markdown",
   "metadata": {},
   "source": [
    "<div class=\"alert alert-block alert-success\" style=\"font-size:16px;\"> <b> \n",
    "2.2 Pour cet exercice, nous utiliserons cette fois-ci uniquement la librairie matplotlib pour tracer deux graphiques de type nuage de points (\"scatter\"). <br>\n",
    "Les deux graphiques doivent se trouver dans la même figure : pour ce faire, vous devez utiliser la fonction <a href=\"https://matplotlib.org/stable/api/_as_gen/matplotlib.pyplot.subplots.html\" target=\"_blank\">plt.subplots</a>.<br> </b> \n",
    "\n",
    "Directives pour cette figure : \n",
    "\n",
    "- La figure doit contenir 1 ligne et 2 colonnes (donc les deux graphiques doivent se retrouver l'un à côté de l'autre, et non l'un par dessus l'autre). <br><br>\n",
    "- Le graphique de gauche doit contenir en axe des x la longueur du bec (en mm) et en axe des y, la masse corporelle (en kg).<br><br>\n",
    "- Le graphique de droite doit contenir en axe des x la longueur des nageoies (en mm) et en axe des y, la masse corporelle (en kg).<br><br>\n",
    "- Pour chacun des deux graphiques, les points correspondant aux pingouins femelles doivent être tracés avec une couleur différente de ceux des pingouins mâles. Les couleurs sont à votre discrétion, mais assurez-vous de choisir deux couleurs qui permettent un bon contraste entre les pingouins femelles et mâles. <br><br>\n",
    "- Vous devez également ajouter une légende sur chacun des deux graphiques, indiquant la couleur correspondant à chaque sexe des pingouins. Assurez-vous que la légende soit bien visible et placée de manière à ne pas masquer de points sur les graphiques.<br><br>\n",
    "- Vous devez ajouter des titres au-dessus des graphiques et sur les axes x et y. Pour rester consistant, vous devez utiliser la même taille de texte que vous avez utilisé pour votre boxplot de l'exercice 3. \n",
    "</div>"
   ]
  },
  {
   "cell_type": "markdown",
   "metadata": {},
   "source": [
    "<h1><font color='coral'> Partie 3 - Visualisation des données </font></h1>"
   ]
  },
  {
   "cell_type": "markdown",
   "metadata": {},
   "source": [
    "<div class=\"alert alert-warning\" style=\"font-size:16px;\">\n",
    "<b> Pour cette troisième partie, nous utiliserons les librairies Matplotlib, seaborn et Plotly pour tracer des graphiques statiques et interactifs.<br>\n",
    "\n",
    "Avec \n",
    "\n",
    "Cette librairie est largement utilisée pour créer des graphiques interactifs. Elle permet de générer facilement des figures visuelles et de les rendre interactives, ce qui est très pratique pour l'exploration et la présentation de données. Elle offre également de nombreuses fonctionnalités pour personnaliser les graphiques et les intégrer dans des applications web ou des notebooks interactifs.<br>\n",
    "\n",
    "Nous allons utiliser Plotly Express, une composante de Plotly qui nous permettra de créer des graphiques interactifs en quelques lignes de code. Vous pouvez exécuter la cellule suivante pour importer Plotly Express.\n",
    "</div>"
   ]
  },
  {
   "cell_type": "markdown",
   "metadata": {},
   "source": [
    "Nous allons d'abord importer la librairie plotly avec la cellule suivante. "
   ]
  },
  {
   "cell_type": "code",
   "execution_count": null,
   "metadata": {},
   "outputs": [],
   "source": [
    "import plotly.express as px "
   ]
  },
  {
   "cell_type": "markdown",
   "metadata": {},
   "source": [
    "<div class=\"alert alert-warning\" style=\"font-size:16px;\">\n",
    "<b> \n",
    "3.1 Représentation graphique des résultats avec un nuage de points 3D interactif en utilisant la librairie Plotly.</b> \n",
    "\n",
    "Directives pour tracer le nuage de points interactif : \n",
    "\n",
    "- le graphique doit avoir comme données : \n",
    "    - sur l'axe des x : la longueur du bec, en mm\n",
    "    - sur l'axe des y : la longueur des nageoires, en mm\n",
    "    - sur l'axe des z : la masse corporelle, en kg\n",
    "\n",
    "- Comme l'exercice précédent, les mâles et les femelles doivent être représentés par des points de couleurs différentes, pour bien les distinguer.\n",
    "\n",
    "- La taille des marqueurs (les points sur le graphique), doit être plus petite que celle par défaut pour pouvoir bien différencier chaque point.\n",
    "\n",
    "- Vous devez ajouter un titre à chaque axe, ainsi qu'un titre principal. \n",
    "\n",
    "Notes : \n",
    "* Avec Plotly express, la légende va apparaître automatiquement : vous n'avez donc pas besoin de l'ajouter. \n",
    "* Vous pouvez garder les tailles des titres par défaut, ou les modifier si vous le souhaitez. L'important est d'avoir des titres qui sont de taille suffisante pour qu'ils soient bien visibles, sans être trop gros pour ne pas qu'ils se superposent.  </br>\n",
    "</div>\n"
   ]
  },
  {
   "cell_type": "code",
   "execution_count": null,
   "metadata": {},
   "outputs": [],
   "source": [
    "# TODO Tracer le nuage de points 3D avec Plotly express"
   ]
  },
  {
   "cell_type": "markdown",
   "metadata": {},
   "source": [
    "<h1><font color='cornflowerblue'> Bonus (+1 point) - Affichage d'une image d'un pingouin </font></h1>"
   ]
  },
  {
   "cell_type": "markdown",
   "metadata": {},
   "source": [
    "<div class=\"alert alert-success\" style=\"font-size:16px; color: darkblue; background-color: cornflowerblue;\">\n",
    "<b>Pour obtenir 1 point bonus, vous pouvez utiliser la librairie matplotlib pour afficher une image d'un pingouin. </b><br>\n",
    "<br>\n",
    "Directives pour cette question bonus : \n",
    "\n",
    "- Dans la cellule ci-dessous, vous devez écrire un code permettant d'afficher l'image \"photo_pingouin.jpg\" située dans le répertoire du TP, pour qu'elle soit affichée directement comme sortie dans ce Jupyter Notebook (c'est-à-dire, juste en dessous de votre cellule de code).\n",
    "\n",
    "- Vous n'avez pas besoin d'importer la librairie matplotlib, car elle a déjà été importée dans ce Jupyter Notebook. \n",
    "\n",
    "- Pour un affichage plus propre, assurez-vous d'enlever l'affichage des axes. \n",
    "</div>\n",
    "\n",
    "</div>"
   ]
  },
  {
   "cell_type": "code",
   "execution_count": null,
   "metadata": {},
   "outputs": [],
   "source": [
    "# TODO Écrire votre code ici pour afficher l'image \"photo_pingouin.jpg\""
   ]
  }
 ],
 "metadata": {
  "kernelspec": {
   "display_name": "Python 3",
   "language": "python",
   "name": "python3"
  },
  "language_info": {
   "codemirror_mode": {
    "name": "ipython",
    "version": 3
   },
   "file_extension": ".py",
   "mimetype": "text/x-python",
   "name": "python",
   "nbconvert_exporter": "python",
   "pygments_lexer": "ipython3",
   "version": "3.12.0"
  },
  "orig_nbformat": 4
 },
 "nbformat": 4,
 "nbformat_minor": 2
}
