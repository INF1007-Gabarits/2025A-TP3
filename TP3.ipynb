{
 "cells": [
  {
   "cell_type": "markdown",
   "metadata": {},
   "source": [
    "<div> \n",
    "    \n",
    "<h1 align=\"center\"> INF1007 - Automne 2025 </h1>\n",
    "<h2 align=\"center\"> TP3 - Analyse de données sur les AVC avec des librairies scientifiques</h2>\n",
    "<br>\n",
    "    \n",
    "</div> "
   ]
  },
  {
   "cell_type": "markdown",
   "metadata": {},
   "source": [
    "<b>\n",
    "Travail réalisé par : <br>\n",
    "<br></b>\n",
    "Remplacer par votre nom <br>\n",
    "Remplacer par votre nom <br>\n",
    "<br>\n",
    "<b>\n",
    "Numéro de groupe de laboratoire :\n",
    "<br><br>\n",
    "</b>\n",
    "Remplacer par votre numéro de groupe (LXX-XX)\n",
    "<br>\n"
   ]
  },
  {
   "cell_type": "code",
   "execution_count": null,
   "metadata": {},
   "outputs": [],
   "source": [
    "# Installations des librairies nécessaires pour le TP. \n",
    "# Vous avez seulement besoin d'exécuter cette cellule une seule fois, lors de la première utilisation du Jupyter Notebook.\n",
    "# Vous pouvez ensuite mettre les installations en commentaire pour éviter de les réexécuter à chaque fois que vous exécutez le Notebook au complet (avec \"Run All\").\n",
    "\n",
    "%pip install pandas\n",
    "%pip install matplotlib\n",
    "%pip install seaborn\n",
    "%pip install plotly\n",
    "%pip install numpy "
   ]
  },
  {
   "cell_type": "markdown",
   "metadata": {},
   "source": [
    "<h1><font color='lightblue'> Partie 1 - Chargement d'une base de données avec Pandas </font></h1>\n"
   ]
  },
  {
   "cell_type": "markdown",
   "metadata": {},
   "source": [
    "<div class=\"alert alert-block alert-info\" style=\"font-size:16px;\">\n",
    "\n",
    "Pour cette première partie du TP, nous utiliserons la librairie Pandas. Pour importer la librairie dans le Jupyter Notebook, vous pouvez exécuter la cellule suivante. \n"
   ]
  },
  {
   "cell_type": "code",
   "execution_count": 3,
   "metadata": {},
   "outputs": [],
   "source": [
    "import pandas as pd\n",
    "import numpy as np"
   ]
  },
  {
   "cell_type": "markdown",
   "metadata": {},
   "source": [
    "<div class=\"alert alert-block alert-info\" style=\"font-size:16px;\">\n",
    "<b>\n",
    "1.1 Vous devez compléter la fonction \"charger_donnees\", qui permet de charger le contenu d'un fichier .csv en un DataFrame Pandas. \n",
    "</b>\n",
    "<br><br> \n",
    "Un DataFrame Pandas est une structure de données tabulaire à deux dimensions, similaire à une feuille de calcul Excel. Il est composé de lignes et de colonnes, où :\n",
    "<br><br> \n",
    "\n",
    "- Chaque colonne représente une variable (ou un attribut) et a un nom.\n",
    "<br>\n",
    "\n",
    "- Chaque ligne représente une entrée (ou un enregistrement).\n",
    "<br>\n",
    "\n",
    "- Les indices (index) permettent d’identifier les lignes.\n",
    "<br>"
   ]
  },
  {
   "cell_type": "code",
   "execution_count": null,
   "metadata": {},
   "outputs": [],
   "source": [
    "# TODO Compléter la fonction charger_donnees\n",
    "def charger_donnees(file_path):\n",
    "    \"\"\"\n",
    "    Lire le fichier csv passé en parametre et retourner un DataFrame contenant les données du fichier csv.\n",
    "    @param file_path: le chemin vers le fichier csv (str)\n",
    "    @return: DataFrame contenant les données du fichier csv. \n",
    "    \"\"\"\n",
    "    # TODO Écrire votre code ici --> remplacer None\n",
    "    \n",
    "    df = None\n",
    "\n",
    "    # Fin du code\n",
    "    return df"
   ]
  },
  {
   "cell_type": "markdown",
   "metadata": {},
   "source": [
    "<div class=\"alert alert-block alert-info\" style=\"font-size:16px;\">\n",
    "<b>\n",
    "1.2 Utilisez la fonction charger_donnees que vous venez de compléter pour charger le contenu du fichier AVC.csv dans un DataFrame pandas. </b> \n"
   ]
  },
  {
   "cell_type": "code",
   "execution_count": null,
   "metadata": {},
   "outputs": [],
   "source": [
    "# TODO Charger le fichier csv de données "
   ]
  },
  {
   "cell_type": "markdown",
   "metadata": {},
   "source": [
    "<div class=\"alert alert-block alert-info\" style=\"font-size:16px;\">\n",
    "<b>\n",
    "1.3 Affichez les 5 premières lignes du DataFrame pour vérifier le chargement. </b> \n",
    "<br>"
   ]
  },
  {
   "cell_type": "code",
   "execution_count": null,
   "metadata": {},
   "outputs": [],
   "source": [
    "# TODO Afficher les 5 premières lignes du DataFrame  "
   ]
  },
  {
   "cell_type": "markdown",
   "metadata": {},
   "source": [
    "<div class=\"alert alert-block alert-info\" style=\"font-size:16px;\">\n",
    "<b>\n",
    "1.4. Complétez la fonction supprimer_colonnes qui permet de supprimer une ou des colonnes d'un DataFrame. \n",
    " </b> \n",
    "<br>"
   ]
  },
  {
   "cell_type": "code",
   "execution_count": null,
   "metadata": {},
   "outputs": [],
   "source": [
    "# TODO Créer une fonction pour supprimer une ou des colonnes. \n",
    "def supprimer_colonnes(dataframe, colonnes):\n",
    "    \"\"\"\n",
    "    Supprime les colonnes non pertinentes.\n",
    "\n",
    "    @param dataframe : Le DataFrame à nettoyer.\n",
    "    @param colonnes : Liste ou nom(s) de colonnes à supprimer.\n",
    "    @return :  Le DataFrame avec les colonnes supprimées\n",
    "    \"\"\"\n",
    "    # TODO Écrire votre code ici\n",
    "\n",
    "    return dataframe\n"
   ]
  },
  {
   "cell_type": "markdown",
   "metadata": {},
   "source": [
    "<div class=\"alert alert-block alert-info\" style=\"font-size:16px;\">\n",
    "<b>\n",
    "1.5 Dans le cadre de votre recherche, vous vous rendez compte que vous ne séparez pas les sujets selon qu’ils aient un diabète ou non, donc cette colonne ne vous est d’aucune utilité. De plus, la date de survenue a peu d’importance dans vos analyses actuelles. Utilisez donc la fonction supprimer_colonnes que vous avez complétée pour supprimer les colonnes \"Diabète\" et \"Date_survenue\" de votre DataFrame.  </b> \n",
    "<br>"
   ]
  },
  {
   "cell_type": "code",
   "execution_count": null,
   "metadata": {},
   "outputs": [],
   "source": [
    "# TODO Supprimer les colonnes \"Diabète\" et \"Date_survenue\" de votre dataframe. Remplacez None. \n",
    "\n",
    "df_clean= None"
   ]
  },
  {
   "cell_type": "markdown",
   "metadata": {},
   "source": [
    "<div class=\"alert alert-block alert-info\" style=\"font-size:16px;\">\n",
    "<b>\n",
    "1.6 Vérifiez que vos données sont uniformes et que vos colonnes sont bien supprimées en affichant les 15 premières lignes du DataFrame.\n",
    "<br>"
   ]
  },
  {
   "cell_type": "code",
   "execution_count": null,
   "metadata": {},
   "outputs": [],
   "source": [
    "# TODO Afficher les 15 premières lignes du DataFrame"
   ]
  },
  {
   "cell_type": "markdown",
   "metadata": {},
   "source": [
    "<div class=\"alert alert-block alert-info\" style=\"font-size:16px;\">\n",
    "<b>\n",
    "1.7 Après vérification, vous vous rendez compte que certaines valeurs de la colonne \"Sexe\" sont en majuscules et d’autres en minuscules. Cela pourrait causer des problèmes lors de la sélection des groupes pour la visualisation des données.\n",
    "<br>\n",
    "\n",
    "Pour éviter toute erreur, complétez la fonction majuscule permettant de mettre toutes les valeurs de la colonne \"Sexe\" en majuscules.\n",
    "<b>\n"
   ]
  },
  {
   "cell_type": "code",
   "execution_count": null,
   "metadata": {},
   "outputs": [],
   "source": [
    "# TODO Créer une fonction pour convertir la colonne 'Sexe' en masjucule - indice : vous pouvez utiliser .str.upper()\n",
    "def majuscule(dataframe):\n",
    "    \"\"\"\n",
    "    Met toutes les valeurs de la colonne 'Sexe' en majuscules.\n",
    "\n",
    "    @param dataframe : Le DataFrame à corriger.\n",
    "    @return : Le DataFrame avec la colonne 'Sexe' en majuscules.\n",
    "    \"\"\"\n",
    "    \n",
    "    return dataframe"
   ]
  },
  {
   "cell_type": "markdown",
   "metadata": {},
   "source": [
    "<div class=\"alert alert-block alert-info\" style=\"font-size:16px;\">\n",
    "<b>\n",
    "1.8 Utilisez la fonction majuscule() pour convertir la colonne 'Sexe'.\n",
    "<br>\n",
    "<b>\n"
   ]
  },
  {
   "cell_type": "code",
   "execution_count": null,
   "metadata": {},
   "outputs": [],
   "source": [
    "# TODO Mettre en majuscule toute la colonne 'Sexe'.\n",
    "df_clean_maj = None "
   ]
  },
  {
   "cell_type": "markdown",
   "metadata": {},
   "source": [
    "<div class=\"alert alert-block alert-info\" style=\"font-size:16px;\">\n",
    "<b>\n",
    "1.9 Pour vérifier que votre fonction a bien fonctionné, affichez de nouveau les 15 premières lignes du DataFrame.\n",
    "<br>\n",
    "<b>\n"
   ]
  },
  {
   "cell_type": "code",
   "execution_count": null,
   "metadata": {},
   "outputs": [],
   "source": [
    "# TODO Afficher les 15 premières lignes du DataFrame\n"
   ]
  },
  {
   "cell_type": "markdown",
   "metadata": {},
   "source": [
    "<h1><font color='lightgreen'> Partie 2 - Calcul des statistiques </font></h1>"
   ]
  },
  {
   "cell_type": "markdown",
   "metadata": {},
   "source": [
    "<div class=\"alert alert-block alert-success\" style=\"font-size:16px;\"> <b> \n",
    "Dans cette deuxième partie du TP, vous allez manipuler les données du DataFrame que vous venez de nettoyer. </div>"
   ]
  },
  {
   "cell_type": "markdown",
   "metadata": {},
   "source": [
    "<div class=\"alert alert-block alert-success\" style=\"font-size:16px;\"> <b> \n",
    "<b>\n",
    "2.1 Affichez le nombre de femmes versus d'hommes ayant eu un AVC, ainsi que le nombre d'AVC hémorragiques versus ischémiques par genre également.\n",
    "<br>"
   ]
  },
  {
   "cell_type": "code",
   "execution_count": null,
   "metadata": {},
   "outputs": [],
   "source": [
    "# Indice: Vous pouvez utiliser value_counts().  \n",
    "#Pour que l'affichage soit optimal, convertissez votre Series pandas en DataFrame et rénitialisez l'index pour transformer l'affichage de votre première colonne. \n",
    "\n",
    "# TODO Afficher en une seule commande le nombre de femmes et d'hommes ayant eu un AVC. \n",
    "print(\"Nombre de patients par sexe :\")\n",
    "f_vs_m= None\n",
    "\n",
    "# TODO Afficher la répartition des AVC (hémorragiques vs ischémiques) selon le sexe.\n",
    "print(\"\\nRépartition des AVC par type et par sexe :\")\n",
    "h_vs_i=None"
   ]
  },
  {
   "cell_type": "markdown",
   "metadata": {},
   "source": [
    "<div class=\"alert alert-block alert-success\" style=\"font-size:16px;\"> <b> \n",
    "<b> 2.2 Complétez la fonction stats_par_groupe qui permet de calculer une ou des statistiques d'une colonne du DataFrame selon un groupe sélectionné.\n",
    "<br>"
   ]
  },
  {
   "cell_type": "code",
   "execution_count": null,
   "metadata": {},
   "outputs": [],
   "source": [
    "# TODO  Complétez la fonction stats_par_groupe - Indice : les fonctions groupby() et agg() pourront vous être utiles. \n",
    "def stats_par_groupe(df, colonne_groupe, colonne_valeur, fonctions):\n",
    "    \"\"\"\n",
    "    Cette fonction doit calculer des statistiques pour une colonne selon un groupe.\n",
    "\n",
    "    @param df : DataFrame\n",
    "    @param colonne_groupe : colonne pour le groupement (ex: 'Sexe')\n",
    "    @param colonne_valeur : colonne à analyser (ex: 'Âge')\n",
    "    @param fonctions : liste ou fonction à appliquer (ex: ['mean','std'])\n",
    "    @return : DataFrame des statistiques\n",
    "    \"\"\"\n",
    "    #Remplacez le None par votre code. \n",
    "    df_stats = None\n",
    "\n",
    "    #Ne modifiez pas le code ci-dessous c'est pour l'affichage.\n",
    "    df_stats_long = df_stats.stack().reset_index()\n",
    "    # Renommage uniquement des deux dernières colonnes\n",
    "    df_stats_long.rename(columns={df_stats_long.columns[1]: \"Statistique\",\n",
    "                                  df_stats_long.columns[2]: \"Valeur\"}, inplace=True)\n",
    "    \n",
    "    return df_stats_long"
   ]
  },
  {
   "cell_type": "markdown",
   "metadata": {},
   "source": [
    "<div class=\"alert alert-block alert-success\" style=\"font-size:16px;\"> <b> \n",
    "<b> 2.3 À l'aide de la fonction stats_par_groupe, affichez les statistiques demandées dans les cellules suivantes.</b>\n",
    "<br>"
   ]
  },
  {
   "cell_type": "code",
   "execution_count": null,
   "metadata": {},
   "outputs": [],
   "source": [
    "#TODO Affichez la moyenne et l'écart-type de l'âge des sujets en fonction du genre. "
   ]
  },
  {
   "cell_type": "code",
   "execution_count": null,
   "metadata": {},
   "outputs": [],
   "source": [
    "#TODO Affichez l'âge minimum et maximum des sujets par sexe. "
   ]
  },
  {
   "cell_type": "code",
   "execution_count": null,
   "metadata": {},
   "outputs": [],
   "source": [
    "#TODO Affichez la durée moyenne d'hospitalisation par type d'AVC"
   ]
  },
  {
   "cell_type": "markdown",
   "metadata": {},
   "source": [
    "<div class=\"alert alert-block alert-success\" style=\"font-size:16px;\"> <b> \n",
    "<b> 2.4 Complétez la fonction suivante pour déterminer la proportion de patients ayant de l’hypertension selon le type d’AVC (ischémique ou hémorragique).\n",
    "<br>"
   ]
  },
  {
   "cell_type": "code",
   "execution_count": null,
   "metadata": {},
   "outputs": [],
   "source": [
    "# TODO Calculer la proportion de patients ayant de l'hypertension par type d'AVC\n",
    "def proportion_hypertension_par_type_avc(dataframe):\n",
    "    \"\"\"\n",
    "    Calcule la proportion (en %) de patients avec hypertension pour chaque type d'AVC.\n",
    "\n",
    "    @param dataframe : Le DataFrame contenant les colonnes 'Hypertension' et 'Type_AVC'.\n",
    "    @return : Un DataFrame avec la proportion en pourcentage par type d'AVC, arrondie à 2 décimales.\n",
    "    \"\"\"\n",
    "\n",
    "    #TODO Créez une nouvelle colonne \"Hypertension_bin\" dans le DataFrame de telle sorte que :\n",
    "    # - si le patient a de l'hypertension, on lui associe le chiffre 1 (\"Oui\" → 1)\n",
    "    # - s’il n’a pas d'hypertension, on lui associe le chiffre 0 (\"Non\" → 0)\n",
    "    # Cela permet de manipuler les données plus facilement pour les calculs statistiques ou les graphiques.\n",
    "\n",
    "    dataframe['Hypertension_bin'] = None # Remplacez None\n",
    "    \n",
    "    #TODO Calculer la proportion moyenne de patients ayant de l'hypertension (proportion de Oui) pour chaque type d'AVC (en pourcentage avec 2 décimales) \n",
    "    #N'oubliez pas d'ajouter le symbole \"%\"\n",
    "    df_pourcentage = None # Remplacez None\n",
    "    \n",
    "\n",
    "    # Transformer en DataFrame avec Type_AVC comme colonne\n",
    "    df_result = df_pourcentage.reset_index()\n",
    "    df_result.columns = ['Type_AVC', 'Hypertension']\n",
    "    return df_result"
   ]
  },
  {
   "cell_type": "markdown",
   "metadata": {},
   "source": [
    "<div class=\"alert alert-block alert-success\" style=\"font-size:16px;\"> <b> \n",
    "<b> 2.5 Affichez le DataFrame contenant la proportion (en %) de patients ayant de l’hypertension, regroupée par type d’AVC.\n",
    "<br>"
   ]
  },
  {
   "cell_type": "code",
   "execution_count": null,
   "metadata": {},
   "outputs": [],
   "source": [
    "#TODO Affichez le Dataframe résultant de la fonction proportion_hypertension_par_type_avc\n"
   ]
  },
  {
   "cell_type": "markdown",
   "metadata": {},
   "source": [
    "<h1><font color='coral'> Partie 3 - Visualisation des données </font></h1>"
   ]
  },
  {
   "cell_type": "markdown",
   "metadata": {},
   "source": [
    "<div class=\"alert alert-warning\" style=\"font-size:16px;\">\n",
    "<b> Pour les graphiques demandés dans cette section, vous aurez besoin des librairies suivantes. Assurez-vous d'exécuter la prochaine cellule. <b>"
   ]
  },
  {
   "cell_type": "code",
   "execution_count": null,
   "metadata": {},
   "outputs": [],
   "source": [
    "import seaborn as sns\n",
    "import plotly.express as px \n",
    "import matplotlib.pyplot as plt "
   ]
  },
  {
   "cell_type": "markdown",
   "metadata": {},
   "source": [
    "<div class=\"alert alert-warning\" style=\"font-size:16px;\">\n",
    "<b>\n",
    "3.1 Visualisez la durée d’hospitalisation selon le sexe et le type d’AVC\n",
    "<br> \n",
    "\n",
    "Utilisez seaborn pour créer des violinplots montrant la distribution de la durée d’hospitalisation.\n",
    "<br> \n",
    "\n",
    "Affichez deux graphiques côte à côte :\n",
    "\n",
    "-   Le premier : durée d’hospitalisation par Sexe. Couleurs : Homme -> Bleu, Femme -> Rouge \n",
    "\n",
    "-   Le second : durée d’hospitalisation par Type d’AVC. Couleurs : Hémorragique -> Vert, Ischémique -> Orange\n",
    "\n",
    "N’oubliez pas de donner un titre clair à chaque graphique, des noms de légendes et d’ajuster la mise en page avec plt.tight_layout().\n",
    "\n",
    "Indice : vous pouvez utiliser plt.subplots pour créer plusieurs axes. \n",
    "<b>\n"
   ]
  },
  {
   "cell_type": "code",
   "execution_count": null,
   "metadata": {},
   "outputs": [],
   "source": [
    "# TODO Tracer le diagramme en violon avec seaborn"
   ]
  },
  {
   "cell_type": "markdown",
   "metadata": {},
   "source": [
    "<div class=\"alert alert-warning\" style=\"font-size:16px;\">\n",
    "<b> \n",
    "3.2 Visualisez la relation entre l’âge et la durée d’hospitalisation</br>\n",
    "\n",
    "Utilisez Plotly Express pour créer un nuage de points (scatter plot).\n",
    "\n",
    "- Sur l’axe X : Âge\n",
    "\n",
    "- Sur l’axe Y : Durée_hospitalisation\n",
    "\n",
    "Différenciez les points selon le sexe (color='Sexe')\n",
    "\n",
    "Créez des sous-graphes (subplots) pour chaque type d’AVC afin de comparer facilement les distributions.\n",
    "\n",
    "Ajoutez un titre clair à la figure et centrez-le.\n",
    "\n",
    "Affichez la figure avec fig.show().\n",
    "\n",
    "Indice : facet_col est un argument utilisé pour faire des facettes (c'est-à-dire des sous-graphiques alignés dans la même figure) pour chaque variable unique dans une colonne. Cet argument est donc utilisable pour générer automatiquement les subplots par catégorie de Type_AVC.</br>\n",
    "</div>\n"
   ]
  },
  {
   "cell_type": "code",
   "execution_count": null,
   "metadata": {},
   "outputs": [],
   "source": [
    "# TODO Tracer le nuage de points 3D avec Plotly express"
   ]
  },
  {
   "cell_type": "markdown",
   "metadata": {},
   "source": [
    "<h1><font color='cornflowerblue'> Bonus (+1 point) - Affichage d'un graphique en barre superposé. </font></h1>"
   ]
  },
  {
   "cell_type": "markdown",
   "metadata": {},
   "source": [
    "<div class=\"alert alert-success\" style=\"font-size:16px; color: darkblue; background-color: cornflowerblue;\">\n",
    "<b>Pour obtenir 1 point bonus, vous pouvez utiliser la librairie matplotlib pour visualiser l’évolution mensuelle des AVC selon le type.  </b><br>\n",
    "<br>\n",
    "Pour cette question, utilisez le Dataframe initial. \n",
    "\n",
    "- À partir de la colonne Date_survenue, extrayez le mois pour chaque patient.\n",
    "\n",
    "- Calculez le nombre de cas d’AVC ischémique et d’AVC hémorragique pour chaque mois de 2024.\n",
    "\n",
    "- Créez un barplot superposé montrant, pour chaque mois, le nombre d’AVC ischémiques et hémorragiques.\n",
    "\n",
    "- Utilisez des couleurs distinctes pour chaque type d’AVC (ex. : ischémique → orange, hémorragique → vert).\n",
    "\n",
    "- Ajoutez un titre, des labels d’axes et une légende claire.\n",
    "\n",
    "- Répondez à cette question : Quel type d’AVC est le plus fréquent ?\n",
    "</div>\n",
    "\n",
    "</div>"
   ]
  },
  {
   "cell_type": "code",
   "execution_count": null,
   "metadata": {},
   "outputs": [],
   "source": [
    "# TODO Écrire votre code ici pour la question bonus"
   ]
  }
 ],
 "metadata": {
  "kernelspec": {
   "display_name": "AVC",
   "language": "python",
   "name": "python3"
  },
  "language_info": {
   "codemirror_mode": {
    "name": "ipython",
    "version": 3
   },
   "file_extension": ".py",
   "mimetype": "text/x-python",
   "name": "python",
   "nbconvert_exporter": "python",
   "pygments_lexer": "ipython3",
   "version": "3.13.2"
  },
  "orig_nbformat": 4
 },
 "nbformat": 4,
 "nbformat_minor": 2
}
